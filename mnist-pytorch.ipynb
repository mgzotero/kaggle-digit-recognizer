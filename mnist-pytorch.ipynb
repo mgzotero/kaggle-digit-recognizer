{
 "cells": [
  {
   "cell_type": "code",
   "execution_count": 1,
   "id": "efd74ffd",
   "metadata": {
    "execution": {
     "iopub.execute_input": "2023-08-04T08:26:34.491401Z",
     "iopub.status.busy": "2023-08-04T08:26:34.491010Z",
     "iopub.status.idle": "2023-08-04T08:26:35.505689Z",
     "shell.execute_reply": "2023-08-04T08:26:35.504333Z"
    },
    "papermill": {
     "duration": 1.028984,
     "end_time": "2023-08-04T08:26:35.508888",
     "exception": false,
     "start_time": "2023-08-04T08:26:34.479904",
     "status": "completed"
    },
    "tags": []
   },
   "outputs": [
    {
     "name": "stdout",
     "output_type": "stream",
     "text": [
      "Python 3.10.12\r\n"
     ]
    }
   ],
   "source": [
    "!python3 --version"
   ]
  },
  {
   "cell_type": "code",
   "execution_count": 2,
   "id": "ab349f85",
   "metadata": {
    "execution": {
     "iopub.execute_input": "2023-08-04T08:26:35.532041Z",
     "iopub.status.busy": "2023-08-04T08:26:35.531040Z",
     "iopub.status.idle": "2023-08-04T08:26:36.497233Z",
     "shell.execute_reply": "2023-08-04T08:26:36.496004Z"
    },
    "papermill": {
     "duration": 0.979955,
     "end_time": "2023-08-04T08:26:36.499639",
     "exception": false,
     "start_time": "2023-08-04T08:26:35.519684",
     "status": "completed"
    },
    "tags": []
   },
   "outputs": [
    {
     "name": "stdout",
     "output_type": "stream",
     "text": [
      "/kaggle/working\r\n"
     ]
    }
   ],
   "source": [
    "!pwd"
   ]
  },
  {
   "cell_type": "code",
   "execution_count": 3,
   "id": "04f67a99",
   "metadata": {
    "execution": {
     "iopub.execute_input": "2023-08-04T08:26:36.519760Z",
     "iopub.status.busy": "2023-08-04T08:26:36.519429Z",
     "iopub.status.idle": "2023-08-04T08:26:37.505008Z",
     "shell.execute_reply": "2023-08-04T08:26:37.503912Z"
    },
    "papermill": {
     "duration": 0.998478,
     "end_time": "2023-08-04T08:26:37.507437",
     "exception": false,
     "start_time": "2023-08-04T08:26:36.508959",
     "status": "completed"
    },
    "tags": []
   },
   "outputs": [
    {
     "name": "stdout",
     "output_type": "stream",
     "text": [
      "sample_submission.csv  test.csv  train.csv\r\n"
     ]
    }
   ],
   "source": [
    "!ls /kaggle/input/digit-recognizer"
   ]
  },
  {
   "cell_type": "markdown",
   "id": "0a9c424c",
   "metadata": {
    "papermill": {
     "duration": 0.008739,
     "end_time": "2023-08-04T08:26:37.525486",
     "exception": false,
     "start_time": "2023-08-04T08:26:37.516747",
     "status": "completed"
    },
    "tags": []
   },
   "source": [
    "# Packages"
   ]
  },
  {
   "cell_type": "code",
   "execution_count": 4,
   "id": "8afdc890",
   "metadata": {
    "_cell_guid": "b1076dfc-b9ad-4769-8c92-a6c4dae69d19",
    "_uuid": "8f2839f25d086af736a60e9eeb907d3b93b6e0e5",
    "execution": {
     "iopub.execute_input": "2023-08-04T08:26:37.545535Z",
     "iopub.status.busy": "2023-08-04T08:26:37.544591Z",
     "iopub.status.idle": "2023-08-04T08:26:45.708775Z",
     "shell.execute_reply": "2023-08-04T08:26:45.707702Z"
    },
    "papermill": {
     "duration": 8.177521,
     "end_time": "2023-08-04T08:26:45.712077",
     "exception": false,
     "start_time": "2023-08-04T08:26:37.534556",
     "status": "completed"
    },
    "tags": []
   },
   "outputs": [
    {
     "name": "stderr",
     "output_type": "stream",
     "text": [
      "/opt/conda/lib/python3.10/site-packages/scipy/__init__.py:146: UserWarning: A NumPy version >=1.16.5 and <1.23.0 is required for this version of SciPy (detected version 1.23.5\n",
      "  warnings.warn(f\"A NumPy version >={np_minversion} and <{np_maxversion}\"\n"
     ]
    }
   ],
   "source": [
    "import numpy as np\n",
    "import pandas as pd\n",
    "\n",
    "import torch\n",
    "from torch import nn\n",
    "from torch.utils.data import Dataset, DataLoader\n",
    "import torch.nn.functional as F\n",
    "\n",
    "from matplotlib import pyplot as plt\n",
    "\n",
    "from sklearn.model_selection import train_test_split\n",
    "\n",
    "import PIL\n",
    "import os\n",
    "\n",
    "np.random.seed(111)\n",
    "random_state = 111"
   ]
  },
  {
   "cell_type": "code",
   "execution_count": 5,
   "id": "ac61b135",
   "metadata": {
    "execution": {
     "iopub.execute_input": "2023-08-04T08:26:45.740749Z",
     "iopub.status.busy": "2023-08-04T08:26:45.739441Z",
     "iopub.status.idle": "2023-08-04T08:26:45.850700Z",
     "shell.execute_reply": "2023-08-04T08:26:45.849281Z"
    },
    "papermill": {
     "duration": 0.127724,
     "end_time": "2023-08-04T08:26:45.853500",
     "exception": false,
     "start_time": "2023-08-04T08:26:45.725776",
     "status": "completed"
    },
    "tags": []
   },
   "outputs": [],
   "source": [
    "device = \"cuda\" if torch.cuda.is_available() else \"cpu\""
   ]
  },
  {
   "cell_type": "code",
   "execution_count": 6,
   "id": "3cdfac74",
   "metadata": {
    "execution": {
     "iopub.execute_input": "2023-08-04T08:26:45.873472Z",
     "iopub.status.busy": "2023-08-04T08:26:45.873118Z",
     "iopub.status.idle": "2023-08-04T08:26:45.898434Z",
     "shell.execute_reply": "2023-08-04T08:26:45.897409Z"
    },
    "papermill": {
     "duration": 0.037663,
     "end_time": "2023-08-04T08:26:45.900515",
     "exception": false,
     "start_time": "2023-08-04T08:26:45.862852",
     "status": "completed"
    },
    "tags": []
   },
   "outputs": [
    {
     "data": {
      "text/plain": [
       "'Tesla T4'"
      ]
     },
     "execution_count": 6,
     "metadata": {},
     "output_type": "execute_result"
    }
   ],
   "source": [
    "torch.cuda.get_device_name()"
   ]
  },
  {
   "cell_type": "markdown",
   "id": "5c7fec1d",
   "metadata": {
    "papermill": {
     "duration": 0.00884,
     "end_time": "2023-08-04T08:26:45.918417",
     "exception": false,
     "start_time": "2023-08-04T08:26:45.909577",
     "status": "completed"
    },
    "tags": []
   },
   "source": [
    "# EDA & Preprocessing"
   ]
  },
  {
   "cell_type": "code",
   "execution_count": 7,
   "id": "1cef529a",
   "metadata": {
    "execution": {
     "iopub.execute_input": "2023-08-04T08:26:45.937790Z",
     "iopub.status.busy": "2023-08-04T08:26:45.937248Z",
     "iopub.status.idle": "2023-08-04T08:26:51.633322Z",
     "shell.execute_reply": "2023-08-04T08:26:51.632266Z"
    },
    "papermill": {
     "duration": 5.709101,
     "end_time": "2023-08-04T08:26:51.636373",
     "exception": false,
     "start_time": "2023-08-04T08:26:45.927272",
     "status": "completed"
    },
    "tags": []
   },
   "outputs": [],
   "source": [
    "path = \"/kaggle/input/digit-recognizer\"\n",
    "\n",
    "train = pd.read_csv(os.path.join(path, \"train.csv\"))\n",
    "test = pd.read_csv(os.path.join(path, \"test.csv\"))"
   ]
  },
  {
   "cell_type": "code",
   "execution_count": 8,
   "id": "9bc1f6ed",
   "metadata": {
    "execution": {
     "iopub.execute_input": "2023-08-04T08:26:51.657399Z",
     "iopub.status.busy": "2023-08-04T08:26:51.657042Z",
     "iopub.status.idle": "2023-08-04T08:26:51.684314Z",
     "shell.execute_reply": "2023-08-04T08:26:51.683136Z"
    },
    "papermill": {
     "duration": 0.040474,
     "end_time": "2023-08-04T08:26:51.686621",
     "exception": false,
     "start_time": "2023-08-04T08:26:51.646147",
     "status": "completed"
    },
    "tags": []
   },
   "outputs": [
    {
     "data": {
      "text/html": [
       "<div>\n",
       "<style scoped>\n",
       "    .dataframe tbody tr th:only-of-type {\n",
       "        vertical-align: middle;\n",
       "    }\n",
       "\n",
       "    .dataframe tbody tr th {\n",
       "        vertical-align: top;\n",
       "    }\n",
       "\n",
       "    .dataframe thead th {\n",
       "        text-align: right;\n",
       "    }\n",
       "</style>\n",
       "<table border=\"1\" class=\"dataframe\">\n",
       "  <thead>\n",
       "    <tr style=\"text-align: right;\">\n",
       "      <th></th>\n",
       "      <th>label</th>\n",
       "      <th>pixel0</th>\n",
       "      <th>pixel1</th>\n",
       "      <th>pixel2</th>\n",
       "      <th>pixel3</th>\n",
       "      <th>pixel4</th>\n",
       "      <th>pixel5</th>\n",
       "      <th>pixel6</th>\n",
       "      <th>pixel7</th>\n",
       "      <th>pixel8</th>\n",
       "      <th>...</th>\n",
       "      <th>pixel774</th>\n",
       "      <th>pixel775</th>\n",
       "      <th>pixel776</th>\n",
       "      <th>pixel777</th>\n",
       "      <th>pixel778</th>\n",
       "      <th>pixel779</th>\n",
       "      <th>pixel780</th>\n",
       "      <th>pixel781</th>\n",
       "      <th>pixel782</th>\n",
       "      <th>pixel783</th>\n",
       "    </tr>\n",
       "  </thead>\n",
       "  <tbody>\n",
       "    <tr>\n",
       "      <th>0</th>\n",
       "      <td>1</td>\n",
       "      <td>0</td>\n",
       "      <td>0</td>\n",
       "      <td>0</td>\n",
       "      <td>0</td>\n",
       "      <td>0</td>\n",
       "      <td>0</td>\n",
       "      <td>0</td>\n",
       "      <td>0</td>\n",
       "      <td>0</td>\n",
       "      <td>...</td>\n",
       "      <td>0</td>\n",
       "      <td>0</td>\n",
       "      <td>0</td>\n",
       "      <td>0</td>\n",
       "      <td>0</td>\n",
       "      <td>0</td>\n",
       "      <td>0</td>\n",
       "      <td>0</td>\n",
       "      <td>0</td>\n",
       "      <td>0</td>\n",
       "    </tr>\n",
       "    <tr>\n",
       "      <th>1</th>\n",
       "      <td>0</td>\n",
       "      <td>0</td>\n",
       "      <td>0</td>\n",
       "      <td>0</td>\n",
       "      <td>0</td>\n",
       "      <td>0</td>\n",
       "      <td>0</td>\n",
       "      <td>0</td>\n",
       "      <td>0</td>\n",
       "      <td>0</td>\n",
       "      <td>...</td>\n",
       "      <td>0</td>\n",
       "      <td>0</td>\n",
       "      <td>0</td>\n",
       "      <td>0</td>\n",
       "      <td>0</td>\n",
       "      <td>0</td>\n",
       "      <td>0</td>\n",
       "      <td>0</td>\n",
       "      <td>0</td>\n",
       "      <td>0</td>\n",
       "    </tr>\n",
       "    <tr>\n",
       "      <th>2</th>\n",
       "      <td>1</td>\n",
       "      <td>0</td>\n",
       "      <td>0</td>\n",
       "      <td>0</td>\n",
       "      <td>0</td>\n",
       "      <td>0</td>\n",
       "      <td>0</td>\n",
       "      <td>0</td>\n",
       "      <td>0</td>\n",
       "      <td>0</td>\n",
       "      <td>...</td>\n",
       "      <td>0</td>\n",
       "      <td>0</td>\n",
       "      <td>0</td>\n",
       "      <td>0</td>\n",
       "      <td>0</td>\n",
       "      <td>0</td>\n",
       "      <td>0</td>\n",
       "      <td>0</td>\n",
       "      <td>0</td>\n",
       "      <td>0</td>\n",
       "    </tr>\n",
       "  </tbody>\n",
       "</table>\n",
       "<p>3 rows × 785 columns</p>\n",
       "</div>"
      ],
      "text/plain": [
       "   label  pixel0  pixel1  pixel2  pixel3  pixel4  pixel5  pixel6  pixel7  \\\n",
       "0      1       0       0       0       0       0       0       0       0   \n",
       "1      0       0       0       0       0       0       0       0       0   \n",
       "2      1       0       0       0       0       0       0       0       0   \n",
       "\n",
       "   pixel8  ...  pixel774  pixel775  pixel776  pixel777  pixel778  pixel779  \\\n",
       "0       0  ...         0         0         0         0         0         0   \n",
       "1       0  ...         0         0         0         0         0         0   \n",
       "2       0  ...         0         0         0         0         0         0   \n",
       "\n",
       "   pixel780  pixel781  pixel782  pixel783  \n",
       "0         0         0         0         0  \n",
       "1         0         0         0         0  \n",
       "2         0         0         0         0  \n",
       "\n",
       "[3 rows x 785 columns]"
      ]
     },
     "execution_count": 8,
     "metadata": {},
     "output_type": "execute_result"
    }
   ],
   "source": [
    "train.head(3)"
   ]
  },
  {
   "cell_type": "code",
   "execution_count": 9,
   "id": "59aa12b1",
   "metadata": {
    "execution": {
     "iopub.execute_input": "2023-08-04T08:26:51.709993Z",
     "iopub.status.busy": "2023-08-04T08:26:51.708480Z",
     "iopub.status.idle": "2023-08-04T08:26:51.725589Z",
     "shell.execute_reply": "2023-08-04T08:26:51.724425Z"
    },
    "papermill": {
     "duration": 0.030236,
     "end_time": "2023-08-04T08:26:51.727884",
     "exception": false,
     "start_time": "2023-08-04T08:26:51.697648",
     "status": "completed"
    },
    "tags": []
   },
   "outputs": [
    {
     "data": {
      "text/html": [
       "<div>\n",
       "<style scoped>\n",
       "    .dataframe tbody tr th:only-of-type {\n",
       "        vertical-align: middle;\n",
       "    }\n",
       "\n",
       "    .dataframe tbody tr th {\n",
       "        vertical-align: top;\n",
       "    }\n",
       "\n",
       "    .dataframe thead th {\n",
       "        text-align: right;\n",
       "    }\n",
       "</style>\n",
       "<table border=\"1\" class=\"dataframe\">\n",
       "  <thead>\n",
       "    <tr style=\"text-align: right;\">\n",
       "      <th></th>\n",
       "      <th>pixel0</th>\n",
       "      <th>pixel1</th>\n",
       "      <th>pixel2</th>\n",
       "      <th>pixel3</th>\n",
       "      <th>pixel4</th>\n",
       "      <th>pixel5</th>\n",
       "      <th>pixel6</th>\n",
       "      <th>pixel7</th>\n",
       "      <th>pixel8</th>\n",
       "      <th>pixel9</th>\n",
       "      <th>...</th>\n",
       "      <th>pixel774</th>\n",
       "      <th>pixel775</th>\n",
       "      <th>pixel776</th>\n",
       "      <th>pixel777</th>\n",
       "      <th>pixel778</th>\n",
       "      <th>pixel779</th>\n",
       "      <th>pixel780</th>\n",
       "      <th>pixel781</th>\n",
       "      <th>pixel782</th>\n",
       "      <th>pixel783</th>\n",
       "    </tr>\n",
       "  </thead>\n",
       "  <tbody>\n",
       "    <tr>\n",
       "      <th>0</th>\n",
       "      <td>0</td>\n",
       "      <td>0</td>\n",
       "      <td>0</td>\n",
       "      <td>0</td>\n",
       "      <td>0</td>\n",
       "      <td>0</td>\n",
       "      <td>0</td>\n",
       "      <td>0</td>\n",
       "      <td>0</td>\n",
       "      <td>0</td>\n",
       "      <td>...</td>\n",
       "      <td>0</td>\n",
       "      <td>0</td>\n",
       "      <td>0</td>\n",
       "      <td>0</td>\n",
       "      <td>0</td>\n",
       "      <td>0</td>\n",
       "      <td>0</td>\n",
       "      <td>0</td>\n",
       "      <td>0</td>\n",
       "      <td>0</td>\n",
       "    </tr>\n",
       "    <tr>\n",
       "      <th>1</th>\n",
       "      <td>0</td>\n",
       "      <td>0</td>\n",
       "      <td>0</td>\n",
       "      <td>0</td>\n",
       "      <td>0</td>\n",
       "      <td>0</td>\n",
       "      <td>0</td>\n",
       "      <td>0</td>\n",
       "      <td>0</td>\n",
       "      <td>0</td>\n",
       "      <td>...</td>\n",
       "      <td>0</td>\n",
       "      <td>0</td>\n",
       "      <td>0</td>\n",
       "      <td>0</td>\n",
       "      <td>0</td>\n",
       "      <td>0</td>\n",
       "      <td>0</td>\n",
       "      <td>0</td>\n",
       "      <td>0</td>\n",
       "      <td>0</td>\n",
       "    </tr>\n",
       "    <tr>\n",
       "      <th>2</th>\n",
       "      <td>0</td>\n",
       "      <td>0</td>\n",
       "      <td>0</td>\n",
       "      <td>0</td>\n",
       "      <td>0</td>\n",
       "      <td>0</td>\n",
       "      <td>0</td>\n",
       "      <td>0</td>\n",
       "      <td>0</td>\n",
       "      <td>0</td>\n",
       "      <td>...</td>\n",
       "      <td>0</td>\n",
       "      <td>0</td>\n",
       "      <td>0</td>\n",
       "      <td>0</td>\n",
       "      <td>0</td>\n",
       "      <td>0</td>\n",
       "      <td>0</td>\n",
       "      <td>0</td>\n",
       "      <td>0</td>\n",
       "      <td>0</td>\n",
       "    </tr>\n",
       "  </tbody>\n",
       "</table>\n",
       "<p>3 rows × 784 columns</p>\n",
       "</div>"
      ],
      "text/plain": [
       "   pixel0  pixel1  pixel2  pixel3  pixel4  pixel5  pixel6  pixel7  pixel8  \\\n",
       "0       0       0       0       0       0       0       0       0       0   \n",
       "1       0       0       0       0       0       0       0       0       0   \n",
       "2       0       0       0       0       0       0       0       0       0   \n",
       "\n",
       "   pixel9  ...  pixel774  pixel775  pixel776  pixel777  pixel778  pixel779  \\\n",
       "0       0  ...         0         0         0         0         0         0   \n",
       "1       0  ...         0         0         0         0         0         0   \n",
       "2       0  ...         0         0         0         0         0         0   \n",
       "\n",
       "   pixel780  pixel781  pixel782  pixel783  \n",
       "0         0         0         0         0  \n",
       "1         0         0         0         0  \n",
       "2         0         0         0         0  \n",
       "\n",
       "[3 rows x 784 columns]"
      ]
     },
     "execution_count": 9,
     "metadata": {},
     "output_type": "execute_result"
    }
   ],
   "source": [
    "test.head(3)"
   ]
  },
  {
   "cell_type": "markdown",
   "id": "9880a5bb",
   "metadata": {
    "papermill": {
     "duration": 0.010088,
     "end_time": "2023-08-04T08:26:51.749133",
     "exception": false,
     "start_time": "2023-08-04T08:26:51.739045",
     "status": "completed"
    },
    "tags": []
   },
   "source": [
    "These are image matrices that have been transformed into unidimensional vectors, assuming they're square-shaped, we can reshape these arrays into $28 \\times 28$ matrices ($\\sqrt{784} = 28$)."
   ]
  },
  {
   "cell_type": "code",
   "execution_count": 10,
   "id": "c8b8425c",
   "metadata": {
    "execution": {
     "iopub.execute_input": "2023-08-04T08:26:51.773411Z",
     "iopub.status.busy": "2023-08-04T08:26:51.772689Z",
     "iopub.status.idle": "2023-08-04T08:26:51.780207Z",
     "shell.execute_reply": "2023-08-04T08:26:51.779262Z"
    },
    "papermill": {
     "duration": 0.022843,
     "end_time": "2023-08-04T08:26:51.782314",
     "exception": false,
     "start_time": "2023-08-04T08:26:51.759471",
     "status": "completed"
    },
    "tags": []
   },
   "outputs": [
    {
     "data": {
      "text/plain": [
       "(28, 28)"
      ]
     },
     "execution_count": 10,
     "metadata": {},
     "output_type": "execute_result"
    }
   ],
   "source": [
    "dims = (28, 28)\n",
    "\n",
    "example = train.values[0, 1:].reshape(dims)  # first column is the label field\n",
    "\n",
    "example.shape"
   ]
  },
  {
   "cell_type": "code",
   "execution_count": 11,
   "id": "d29a70f2",
   "metadata": {
    "execution": {
     "iopub.execute_input": "2023-08-04T08:26:51.802970Z",
     "iopub.status.busy": "2023-08-04T08:26:51.802708Z",
     "iopub.status.idle": "2023-08-04T08:26:52.114849Z",
     "shell.execute_reply": "2023-08-04T08:26:52.113817Z"
    },
    "papermill": {
     "duration": 0.324858,
     "end_time": "2023-08-04T08:26:52.116988",
     "exception": false,
     "start_time": "2023-08-04T08:26:51.792130",
     "status": "completed"
    },
    "tags": []
   },
   "outputs": [
    {
     "data": {
      "image/png": "[encoded data removed]",
      "text/plain": [
       "<Figure size 640x480 with 1 Axes>"
      ]
     },
     "metadata": {},
     "output_type": "display_data"
    }
   ],
   "source": [
    "fig, ax = plt.subplots()\n",
    "\n",
    "ax.imshow(example, cmap=\"gray\")\n",
    "\n",
    "fig.show()"
   ]
  },
  {
   "cell_type": "markdown",
   "id": "a461fb9b",
   "metadata": {
    "papermill": {
     "duration": 0.00987,
     "end_time": "2023-08-04T08:26:52.137121",
     "exception": false,
     "start_time": "2023-08-04T08:26:52.127251",
     "status": "completed"
    },
    "tags": []
   },
   "source": [
    "We can select a few more images to show.  (Why not?)."
   ]
  },
  {
   "cell_type": "code",
   "execution_count": 12,
   "id": "574fb5d4",
   "metadata": {
    "execution": {
     "iopub.execute_input": "2023-08-04T08:26:52.159162Z",
     "iopub.status.busy": "2023-08-04T08:26:52.157709Z",
     "iopub.status.idle": "2023-08-04T08:26:52.519552Z",
     "shell.execute_reply": "2023-08-04T08:26:52.518377Z"
    },
    "papermill": {
     "duration": 0.376903,
     "end_time": "2023-08-04T08:26:52.523832",
     "exception": false,
     "start_time": "2023-08-04T08:26:52.146929",
     "status": "completed"
    },
    "tags": []
   },
   "outputs": [
    {
     "data": {
      "image/png": "[encoded data removed]",
      "text/plain": [
       "<Figure size 640x480 with 5 Axes>"
      ]
     },
     "metadata": {},
     "output_type": "display_data"
    }
   ],
   "source": [
    "n_imgs = 5\n",
    "imgs = []\n",
    "\n",
    "for _ in range(n_imgs):\n",
    "    img_idx = np.random.randint(0, len(train))\n",
    "    imgs.append(train.values[img_idx, 1:].reshape(dims))\n",
    "\n",
    "fig, axes = plt.subplots(ncols=n_imgs)\n",
    "axes = axes.flatten()\n",
    "\n",
    "for idx, ax in enumerate(axes):\n",
    "    ax.imshow(imgs[idx], cmap=\"gray\")\n",
    "    ax.set_xticks([]); ax.set_yticks([])\n",
    "    \n",
    "fig.tight_layout()\n",
    "fig.show()"
   ]
  },
  {
   "cell_type": "code",
   "execution_count": 13,
   "id": "596efdd5",
   "metadata": {
    "execution": {
     "iopub.execute_input": "2023-08-04T08:26:52.569393Z",
     "iopub.status.busy": "2023-08-04T08:26:52.568819Z",
     "iopub.status.idle": "2023-08-04T08:26:52.925456Z",
     "shell.execute_reply": "2023-08-04T08:26:52.924506Z"
    },
    "papermill": {
     "duration": 0.381293,
     "end_time": "2023-08-04T08:26:52.927445",
     "exception": false,
     "start_time": "2023-08-04T08:26:52.546152",
     "status": "completed"
    },
    "tags": []
   },
   "outputs": [
    {
     "data": {
      "image/png": "[encoded data removed]",
      "text/plain": [
       "<Figure size 640x480 with 1 Axes>"
      ]
     },
     "metadata": {},
     "output_type": "display_data"
    }
   ],
   "source": [
    "fig, ax = plt.subplots()\n",
    "\n",
    "train.label.value_counts().sort_index().plot.bar(ax=ax, rot=0)\n",
    "\n",
    "ax.set_title(\"Frequency of Labels\")\n",
    "ax.set_xlabel(\"Label\"); ax.set_ylabel(\"Frequency\")\n",
    "\n",
    "fig.show()"
   ]
  },
  {
   "cell_type": "code",
   "execution_count": 14,
   "id": "ed5a976e",
   "metadata": {
    "execution": {
     "iopub.execute_input": "2023-08-04T08:26:52.949468Z",
     "iopub.status.busy": "2023-08-04T08:26:52.949165Z",
     "iopub.status.idle": "2023-08-04T08:26:52.956651Z",
     "shell.execute_reply": "2023-08-04T08:26:52.955378Z"
    },
    "papermill": {
     "duration": 0.020845,
     "end_time": "2023-08-04T08:26:52.958683",
     "exception": false,
     "start_time": "2023-08-04T08:26:52.937838",
     "status": "completed"
    },
    "tags": []
   },
   "outputs": [],
   "source": [
    "def get_image_matrix(df: pd.DataFrame,\n",
    "                     with_labels: bool = True,\n",
    "                     dims: tuple[int] = (28, 28)) -> pd.DataFrame:\n",
    "    \"\"\"\n",
    "    Receives a dataset of vectorized images and returns\n",
    "    a dataset of the corresponding image matrices.\n",
    "    \"\"\"\n",
    "    \n",
    "    if with_labels:\n",
    "        new_df = df[[\"label\"]].copy(deep=True)\n",
    "        new_df[\"img\"] = df.iloc[:, 1:].apply(lambda row: row.values.reshape(dims), axis=1)\n",
    "    else:\n",
    "        new_df = pd.DataFrame(\n",
    "            {\"img\": df.apply(lambda row: row.values.reshape(dims), axis=1)}\n",
    "        )\n",
    "    \n",
    "    return new_df"
   ]
  },
  {
   "cell_type": "code",
   "execution_count": 15,
   "id": "bd29d5ac",
   "metadata": {
    "execution": {
     "iopub.execute_input": "2023-08-04T08:26:52.980264Z",
     "iopub.status.busy": "2023-08-04T08:26:52.979981Z",
     "iopub.status.idle": "2023-08-04T08:26:53.340304Z",
     "shell.execute_reply": "2023-08-04T08:26:53.339319Z"
    },
    "papermill": {
     "duration": 0.373957,
     "end_time": "2023-08-04T08:26:53.342827",
     "exception": false,
     "start_time": "2023-08-04T08:26:52.968870",
     "status": "completed"
    },
    "tags": []
   },
   "outputs": [
    {
     "data": {
      "text/html": [
       "<div>\n",
       "<style scoped>\n",
       "    .dataframe tbody tr th:only-of-type {\n",
       "        vertical-align: middle;\n",
       "    }\n",
       "\n",
       "    .dataframe tbody tr th {\n",
       "        vertical-align: top;\n",
       "    }\n",
       "\n",
       "    .dataframe thead th {\n",
       "        text-align: right;\n",
       "    }\n",
       "</style>\n",
       "<table border=\"1\" class=\"dataframe\">\n",
       "  <thead>\n",
       "    <tr style=\"text-align: right;\">\n",
       "      <th></th>\n",
       "      <th>label</th>\n",
       "      <th>img</th>\n",
       "    </tr>\n",
       "  </thead>\n",
       "  <tbody>\n",
       "    <tr>\n",
       "      <th>0</th>\n",
       "      <td>1</td>\n",
       "      <td>[[0, 0, 0, 0, 0, 0, 0, 0, 0, 0, 0, 0, 0, 0, 0,...</td>\n",
       "    </tr>\n",
       "    <tr>\n",
       "      <th>1</th>\n",
       "      <td>0</td>\n",
       "      <td>[[0, 0, 0, 0, 0, 0, 0, 0, 0, 0, 0, 0, 0, 0, 0,...</td>\n",
       "    </tr>\n",
       "    <tr>\n",
       "      <th>2</th>\n",
       "      <td>1</td>\n",
       "      <td>[[0, 0, 0, 0, 0, 0, 0, 0, 0, 0, 0, 0, 0, 0, 0,...</td>\n",
       "    </tr>\n",
       "  </tbody>\n",
       "</table>\n",
       "</div>"
      ],
      "text/plain": [
       "   label                                                img\n",
       "0      1  [[0, 0, 0, 0, 0, 0, 0, 0, 0, 0, 0, 0, 0, 0, 0,...\n",
       "1      0  [[0, 0, 0, 0, 0, 0, 0, 0, 0, 0, 0, 0, 0, 0, 0,...\n",
       "2      1  [[0, 0, 0, 0, 0, 0, 0, 0, 0, 0, 0, 0, 0, 0, 0,..."
      ]
     },
     "execution_count": 15,
     "metadata": {},
     "output_type": "execute_result"
    }
   ],
   "source": [
    "df = get_image_matrix(train)\n",
    "\n",
    "df.head(3)"
   ]
  },
  {
   "cell_type": "code",
   "execution_count": 16,
   "id": "610a9543",
   "metadata": {
    "execution": {
     "iopub.execute_input": "2023-08-04T08:26:53.367240Z",
     "iopub.status.busy": "2023-08-04T08:26:53.366817Z",
     "iopub.status.idle": "2023-08-04T08:26:53.634365Z",
     "shell.execute_reply": "2023-08-04T08:26:53.633246Z"
    },
    "papermill": {
     "duration": 0.281962,
     "end_time": "2023-08-04T08:26:53.636781",
     "exception": false,
     "start_time": "2023-08-04T08:26:53.354819",
     "status": "completed"
    },
    "tags": []
   },
   "outputs": [
    {
     "data": {
      "text/html": [
       "<div>\n",
       "<style scoped>\n",
       "    .dataframe tbody tr th:only-of-type {\n",
       "        vertical-align: middle;\n",
       "    }\n",
       "\n",
       "    .dataframe tbody tr th {\n",
       "        vertical-align: top;\n",
       "    }\n",
       "\n",
       "    .dataframe thead th {\n",
       "        text-align: right;\n",
       "    }\n",
       "</style>\n",
       "<table border=\"1\" class=\"dataframe\">\n",
       "  <thead>\n",
       "    <tr style=\"text-align: right;\">\n",
       "      <th></th>\n",
       "      <th>img</th>\n",
       "    </tr>\n",
       "  </thead>\n",
       "  <tbody>\n",
       "    <tr>\n",
       "      <th>0</th>\n",
       "      <td>[[0, 0, 0, 0, 0, 0, 0, 0, 0, 0, 0, 0, 0, 0, 0,...</td>\n",
       "    </tr>\n",
       "    <tr>\n",
       "      <th>1</th>\n",
       "      <td>[[0, 0, 0, 0, 0, 0, 0, 0, 0, 0, 0, 0, 0, 0, 0,...</td>\n",
       "    </tr>\n",
       "    <tr>\n",
       "      <th>2</th>\n",
       "      <td>[[0, 0, 0, 0, 0, 0, 0, 0, 0, 0, 0, 0, 0, 0, 0,...</td>\n",
       "    </tr>\n",
       "  </tbody>\n",
       "</table>\n",
       "</div>"
      ],
      "text/plain": [
       "                                                 img\n",
       "0  [[0, 0, 0, 0, 0, 0, 0, 0, 0, 0, 0, 0, 0, 0, 0,...\n",
       "1  [[0, 0, 0, 0, 0, 0, 0, 0, 0, 0, 0, 0, 0, 0, 0,...\n",
       "2  [[0, 0, 0, 0, 0, 0, 0, 0, 0, 0, 0, 0, 0, 0, 0,..."
      ]
     },
     "execution_count": 16,
     "metadata": {},
     "output_type": "execute_result"
    }
   ],
   "source": [
    "get_image_matrix(test, with_labels=False).head(3)"
   ]
  },
  {
   "cell_type": "code",
   "execution_count": 17,
   "id": "b24d7027",
   "metadata": {
    "execution": {
     "iopub.execute_input": "2023-08-04T08:26:53.660372Z",
     "iopub.status.busy": "2023-08-04T08:26:53.660056Z",
     "iopub.status.idle": "2023-08-04T08:26:53.783257Z",
     "shell.execute_reply": "2023-08-04T08:26:53.782026Z"
    },
    "papermill": {
     "duration": 0.139037,
     "end_time": "2023-08-04T08:26:53.787019",
     "exception": false,
     "start_time": "2023-08-04T08:26:53.647982",
     "status": "completed"
    },
    "tags": []
   },
   "outputs": [
    {
     "data": {
      "image/png": "[encoded data removed]",
      "text/plain": [
       "<Figure size 640x480 with 1 Axes>"
      ]
     },
     "metadata": {},
     "output_type": "display_data"
    }
   ],
   "source": [
    "fig, ax = plt.subplots()\n",
    "\n",
    "n_img = np.random.randint(0, len(df))\n",
    "ax.imshow(df.img[n_img], cmap=\"gray\")\n",
    "ax.set_xticks([]); ax.set_yticks([])\n",
    "\n",
    "ax.set_title(f\"Label of the Image: {df.label[n_img]}\")\n",
    "\n",
    "fig.show()"
   ]
  },
  {
   "cell_type": "code",
   "execution_count": 18,
   "id": "23861f3d",
   "metadata": {
    "execution": {
     "iopub.execute_input": "2023-08-04T08:26:53.837107Z",
     "iopub.status.busy": "2023-08-04T08:26:53.836532Z",
     "iopub.status.idle": "2023-08-04T08:26:53.855340Z",
     "shell.execute_reply": "2023-08-04T08:26:53.854105Z"
    },
    "papermill": {
     "duration": 0.047024,
     "end_time": "2023-08-04T08:26:53.858839",
     "exception": false,
     "start_time": "2023-08-04T08:26:53.811815",
     "status": "completed"
    },
    "tags": []
   },
   "outputs": [],
   "source": [
    "class ImageDataset(Dataset):\n",
    "    def __init__(self, raw_dataframe, with_labels=True, transform=get_image_matrix, normalized=False):\n",
    "        self.raw_dataframe = raw_dataframe\n",
    "        self.with_labels = with_labels\n",
    "        self.dataframe = transform(self.raw_dataframe, with_labels=self.with_labels).values\n",
    "        if with_labels:\n",
    "            self.dataframe[:, 1:] = self.dataframe[:, 1:] / 255 if not normalized else self.dataframe[:, 1:]\n",
    "        else:\n",
    "            self.dataframe = self.dataframe / 255 if not normalized else self.dataframe\n",
    "        \n",
    "    def __getitem__(self, idx):\n",
    "        if self.with_labels:\n",
    "            img = torch.tensor(self.dataframe[idx, 1], dtype=torch.float32, device=device)\n",
    "            label = torch.tensor(self.dataframe[idx, 0], dtype=torch.int64, device=device)\n",
    "            return img, label\n",
    "        else:\n",
    "            img = torch.tensor(self.dataframe[idx, 0], dtype=torch.float32, device=device)\n",
    "            return img\n",
    "    \n",
    "    def __len__(self):\n",
    "        return len(self.dataframe)"
   ]
  },
  {
   "cell_type": "code",
   "execution_count": 19,
   "id": "89c1746e",
   "metadata": {
    "execution": {
     "iopub.execute_input": "2023-08-04T08:26:53.887086Z",
     "iopub.status.busy": "2023-08-04T08:26:53.886813Z",
     "iopub.status.idle": "2023-08-04T08:26:54.136469Z",
     "shell.execute_reply": "2023-08-04T08:26:54.135384Z"
    },
    "papermill": {
     "duration": 0.26433,
     "end_time": "2023-08-04T08:26:54.139087",
     "exception": false,
     "start_time": "2023-08-04T08:26:53.874757",
     "status": "completed"
    },
    "tags": []
   },
   "outputs": [],
   "source": [
    "train, val = train_test_split(train, test_size=0.8, random_state=random_state)"
   ]
  },
  {
   "cell_type": "code",
   "execution_count": 20,
   "id": "9172e617",
   "metadata": {
    "execution": {
     "iopub.execute_input": "2023-08-04T08:26:54.163873Z",
     "iopub.status.busy": "2023-08-04T08:26:54.162943Z",
     "iopub.status.idle": "2023-08-04T08:26:55.335893Z",
     "shell.execute_reply": "2023-08-04T08:26:55.334863Z"
    },
    "papermill": {
     "duration": 1.187729,
     "end_time": "2023-08-04T08:26:55.338417",
     "exception": false,
     "start_time": "2023-08-04T08:26:54.150688",
     "status": "completed"
    },
    "tags": []
   },
   "outputs": [],
   "source": [
    "train_data = ImageDataset(train)\n",
    "train_loader = DataLoader(train_data, batch_size=64, shuffle=True)\n",
    "\n",
    "val_data = ImageDataset(val)\n",
    "val_loader = DataLoader(val_data, batch_size=64, shuffle=True)\n",
    "\n",
    "test_data = ImageDataset(test, with_labels=False)\n",
    "test_loader = DataLoader(test_data, batch_size=64, shuffle=False)"
   ]
  },
  {
   "cell_type": "code",
   "execution_count": 21,
   "id": "84a71573",
   "metadata": {
    "execution": {
     "iopub.execute_input": "2023-08-04T08:26:55.362157Z",
     "iopub.status.busy": "2023-08-04T08:26:55.361861Z",
     "iopub.status.idle": "2023-08-04T08:26:55.367264Z",
     "shell.execute_reply": "2023-08-04T08:26:55.366398Z"
    },
    "papermill": {
     "duration": 0.01964,
     "end_time": "2023-08-04T08:26:55.369387",
     "exception": false,
     "start_time": "2023-08-04T08:26:55.349747",
     "status": "completed"
    },
    "tags": []
   },
   "outputs": [],
   "source": [
    "# class CNN(nn.Module):\n",
    "#     def __init__(self):\n",
    "#         super(CNN, self).__init__()\n",
    "#         self.conv1 = nn.Conv2d(in_channels=1, out_channels=32, kernel_size=(3, 3))\n",
    "#         self.conv2 = nn.Conv2d(in_channels=32, out_channels=64, kernel_size=(3, 3))\n",
    "#         self.fc = nn.Linear(64 * 24 * 24, 10)\n",
    "        \n",
    "#     def forward(self, x):\n",
    "#         x = x.unsqueeze(1)  # add channel dimension\n",
    "#         x = F.relu(self.conv1(x))\n",
    "#         x = F.relu(self.conv2(x))\n",
    "#         x = x.view(x.size(0), -1)  # reshape\n",
    "#         x = self.fc(x)\n",
    "#         return x"
   ]
  },
  {
   "cell_type": "markdown",
   "id": "8e53ff79",
   "metadata": {
    "papermill": {
     "duration": 0.010666,
     "end_time": "2023-08-04T08:26:55.391245",
     "exception": false,
     "start_time": "2023-08-04T08:26:55.380579",
     "status": "completed"
    },
    "tags": []
   },
   "source": [
    "# Model"
   ]
  },
  {
   "cell_type": "code",
   "execution_count": 22,
   "id": "43d7c592",
   "metadata": {
    "execution": {
     "iopub.execute_input": "2023-08-04T08:26:55.414756Z",
     "iopub.status.busy": "2023-08-04T08:26:55.414442Z",
     "iopub.status.idle": "2023-08-04T08:26:55.424612Z",
     "shell.execute_reply": "2023-08-04T08:26:55.423542Z"
    },
    "papermill": {
     "duration": 0.024592,
     "end_time": "2023-08-04T08:26:55.426883",
     "exception": false,
     "start_time": "2023-08-04T08:26:55.402291",
     "status": "completed"
    },
    "tags": []
   },
   "outputs": [],
   "source": [
    "class CNN(nn.Module):\n",
    "    def __init__(self, dropout_rate=0.7):\n",
    "        super(CNN, self).__init__()\n",
    "        self.conv1 = nn.Conv2d(in_channels=1, out_channels=32, kernel_size=3)\n",
    "        self.bn1 = nn.BatchNorm2d(32)\n",
    "        self.pool1 = nn.MaxPool2d(kernel_size=2)\n",
    "        self.conv2 = nn.Conv2d(in_channels=32, out_channels=64, kernel_size=3)\n",
    "        self.bn2 = nn.BatchNorm2d(64)\n",
    "        self.pool2 = nn.MaxPool2d(kernel_size=2)\n",
    "        self.conv3 = nn.Conv2d(in_channels=64, out_channels=128, kernel_size=3)\n",
    "        self.bn3 = nn.BatchNorm2d(128)\n",
    "        self.fc = nn.Sequential(\n",
    "            nn.Linear(1152, 512),\n",
    "            nn.ReLU(),\n",
    "            nn.Dropout(p=dropout_rate),\n",
    "            nn.Linear(512, 10)\n",
    "        )\n",
    "        \n",
    "    def forward(self, x):\n",
    "        x = x.unsqueeze(1)\n",
    "        x = F.relu(self.bn1(self.conv1(x)))\n",
    "        x = self.pool1(x)\n",
    "        x = F.relu(self.bn2(self.conv2(x)))\n",
    "        x = self.pool2(x)\n",
    "        x = F.relu(self.bn3(self.conv3(x)))\n",
    "        x = x.view(x.size(0), -1)\n",
    "        x = self.fc(x)\n",
    "        return x\n"
   ]
  },
  {
   "cell_type": "code",
   "execution_count": 23,
   "id": "ffb1063d",
   "metadata": {
    "execution": {
     "iopub.execute_input": "2023-08-04T08:26:55.449667Z",
     "iopub.status.busy": "2023-08-04T08:26:55.449399Z",
     "iopub.status.idle": "2023-08-04T08:27:00.009418Z",
     "shell.execute_reply": "2023-08-04T08:27:00.008399Z"
    },
    "papermill": {
     "duration": 4.574367,
     "end_time": "2023-08-04T08:27:00.012053",
     "exception": false,
     "start_time": "2023-08-04T08:26:55.437686",
     "status": "completed"
    },
    "tags": []
   },
   "outputs": [],
   "source": [
    "cnn = CNN().to(device)"
   ]
  },
  {
   "cell_type": "code",
   "execution_count": 24,
   "id": "64458b8a",
   "metadata": {
    "execution": {
     "iopub.execute_input": "2023-08-04T08:27:00.035801Z",
     "iopub.status.busy": "2023-08-04T08:27:00.035497Z",
     "iopub.status.idle": "2023-08-04T08:28:07.562757Z",
     "shell.execute_reply": "2023-08-04T08:28:07.561132Z"
    },
    "papermill": {
     "duration": 67.541668,
     "end_time": "2023-08-04T08:28:07.565074",
     "exception": false,
     "start_time": "2023-08-04T08:27:00.023406",
     "status": "completed"
    },
    "tags": []
   },
   "outputs": [
    {
     "name": "stdout",
     "output_type": "stream",
     "text": [
      "Epoch 1:\n",
      "Train Loss: 0.3566 | Train Accuracy: 0.8852\n",
      "Val Loss: 0.0986 | Val Accuracy: 0.9709\n",
      "\n",
      "Epoch 2:\n",
      "Train Loss: 0.1419 | Train Accuracy: 0.9571\n",
      "Val Loss: 0.0994 | Val Accuracy: 0.9715\n",
      "\n",
      "Epoch 3:\n",
      "Train Loss: 0.1145 | Train Accuracy: 0.9664\n",
      "Val Loss: 0.0700 | Val Accuracy: 0.9801\n",
      "\n",
      "Epoch 4:\n",
      "Train Loss: 0.0894 | Train Accuracy: 0.9727\n",
      "Val Loss: 0.0815 | Val Accuracy: 0.9784\n",
      "\n",
      "Epoch 5:\n",
      "Train Loss: 0.0636 | Train Accuracy: 0.9809\n",
      "Val Loss: 0.0811 | Val Accuracy: 0.9786\n",
      "\n",
      "Epoch 6:\n",
      "Train Loss: 0.0536 | Train Accuracy: 0.9832\n",
      "Val Loss: 0.0771 | Val Accuracy: 0.9813\n",
      "\n",
      "Epoch 7:\n",
      "Train Loss: 0.0439 | Train Accuracy: 0.9875\n",
      "Val Loss: 0.0637 | Val Accuracy: 0.9838\n",
      "\n",
      "Epoch 8:\n",
      "Train Loss: 0.0432 | Train Accuracy: 0.9875\n",
      "Val Loss: 0.1079 | Val Accuracy: 0.9733\n",
      "\n",
      "Epoch 9:\n",
      "Train Loss: 0.0398 | Train Accuracy: 0.9871\n",
      "Val Loss: 0.0712 | Val Accuracy: 0.9846\n",
      "\n",
      "Epoch 10:\n",
      "Train Loss: 0.0297 | Train Accuracy: 0.9918\n",
      "Val Loss: 0.0752 | Val Accuracy: 0.9843\n",
      "\n",
      "Epoch 11:\n",
      "Train Loss: 0.0281 | Train Accuracy: 0.9916\n",
      "Val Loss: 0.0943 | Val Accuracy: 0.9801\n",
      "\n",
      "Epoch 12:\n",
      "Train Loss: 0.0214 | Train Accuracy: 0.9936\n",
      "Val Loss: 0.0677 | Val Accuracy: 0.9857\n",
      "\n",
      "Epoch 13:\n",
      "Train Loss: 0.0252 | Train Accuracy: 0.9923\n",
      "Val Loss: 0.0852 | Val Accuracy: 0.9825\n",
      "\n",
      "Epoch 14:\n",
      "Train Loss: 0.0269 | Train Accuracy: 0.9910\n",
      "Val Loss: 0.0677 | Val Accuracy: 0.9862\n",
      "\n",
      "Epoch 15:\n",
      "Train Loss: 0.0196 | Train Accuracy: 0.9941\n",
      "Val Loss: 0.0793 | Val Accuracy: 0.9854\n",
      "\n"
     ]
    }
   ],
   "source": [
    "criterion = nn.CrossEntropyLoss().to(device)\n",
    "optimizer = torch.optim.Adam(cnn.parameters(), lr=0.003)\n",
    "\n",
    "for epoch in range(1, 16):\n",
    "    cnn.train()\n",
    "    epoch_train_loss = 0\n",
    "    epoch_train_acc = 0\n",
    "    \n",
    "    for imgs, labels in train_loader:\n",
    "        optimizer.zero_grad()\n",
    "        \n",
    "        preds = cnn(imgs)\n",
    "        \n",
    "        loss = criterion(preds, labels)\n",
    "        loss.backward()\n",
    "        optimizer.step()\n",
    "        \n",
    "        epoch_train_loss += loss.item()\n",
    "        epoch_train_acc += torch.mean((torch.argmax(preds, 1) == labels).type(torch.float32)).item()\n",
    "    \n",
    "    epoch_train_loss = epoch_train_loss / len(train_loader)\n",
    "    epoch_train_acc = epoch_train_acc / len(train_loader)\n",
    "    \n",
    "    \n",
    "    cnn.eval()\n",
    "    epoch_val_loss = 0\n",
    "    epoch_val_acc = 0\n",
    "    \n",
    "    with torch.no_grad():\n",
    "        for imgs, labels in val_loader:\n",
    "            preds = cnn(imgs)\n",
    "            loss = criterion(preds, labels)\n",
    "\n",
    "            epoch_val_loss += loss.item()\n",
    "            epoch_val_acc += torch.mean((torch.argmax(preds, 1) == labels).type(torch.float32)).item()\n",
    "    \n",
    "    epoch_val_loss = epoch_val_loss / len(val_loader)\n",
    "    epoch_val_acc = epoch_val_acc / len(val_loader)\n",
    "    \n",
    "    print(f\"Epoch {epoch}:\",\n",
    "          f\"Train Loss: {epoch_train_loss:.4f} | Train Accuracy: {epoch_train_acc:.4f}\",\n",
    "          f\"Val Loss: {epoch_val_loss:.4f} | Val Accuracy: {epoch_val_acc:.4f}\",\n",
    "          sep=\"\\n\",\n",
    "          end=\"\\n\\n\")"
   ]
  },
  {
   "cell_type": "code",
   "execution_count": 25,
   "id": "6340a627",
   "metadata": {
    "execution": {
     "iopub.execute_input": "2023-08-04T08:28:07.592197Z",
     "iopub.status.busy": "2023-08-04T08:28:07.591172Z",
     "iopub.status.idle": "2023-08-04T08:28:07.607571Z",
     "shell.execute_reply": "2023-08-04T08:28:07.606631Z"
    },
    "papermill": {
     "duration": 0.032006,
     "end_time": "2023-08-04T08:28:07.609614",
     "exception": false,
     "start_time": "2023-08-04T08:28:07.577608",
     "status": "completed"
    },
    "tags": []
   },
   "outputs": [],
   "source": [
    "torch.save(cnn.state_dict(), \"/kaggle/working/cnn.pt\")"
   ]
  },
  {
   "cell_type": "code",
   "execution_count": 26,
   "id": "ea9d65da",
   "metadata": {
    "execution": {
     "iopub.execute_input": "2023-08-04T08:28:07.636587Z",
     "iopub.status.busy": "2023-08-04T08:28:07.635824Z",
     "iopub.status.idle": "2023-08-04T08:28:32.858555Z",
     "shell.execute_reply": "2023-08-04T08:28:32.857505Z"
    },
    "papermill": {
     "duration": 25.239066,
     "end_time": "2023-08-04T08:28:32.861055",
     "exception": false,
     "start_time": "2023-08-04T08:28:07.621989",
     "status": "completed"
    },
    "tags": []
   },
   "outputs": [],
   "source": [
    "cnn.eval()\n",
    "\n",
    "preds = []\n",
    "\n",
    "for i in range(len(test_data)):\n",
    "    pred = torch.argmax(cnn(test_data[i].unsqueeze(0))).item()\n",
    "    preds.append(pred)"
   ]
  },
  {
   "cell_type": "code",
   "execution_count": 27,
   "id": "8550278d",
   "metadata": {
    "execution": {
     "iopub.execute_input": "2023-08-04T08:28:32.887945Z",
     "iopub.status.busy": "2023-08-04T08:28:32.887645Z",
     "iopub.status.idle": "2023-08-04T08:28:32.918235Z",
     "shell.execute_reply": "2023-08-04T08:28:32.917382Z"
    },
    "papermill": {
     "duration": 0.046184,
     "end_time": "2023-08-04T08:28:32.920159",
     "exception": false,
     "start_time": "2023-08-04T08:28:32.873975",
     "status": "completed"
    },
    "tags": []
   },
   "outputs": [],
   "source": [
    "submission = pd.DataFrame(\n",
    "    {\"ImageId\": list(range(1, len(test_data) + 1)), \"Label\": preds}\n",
    ")"
   ]
  },
  {
   "cell_type": "code",
   "execution_count": 28,
   "id": "9948a384",
   "metadata": {
    "execution": {
     "iopub.execute_input": "2023-08-04T08:28:32.945945Z",
     "iopub.status.busy": "2023-08-04T08:28:32.945079Z",
     "iopub.status.idle": "2023-08-04T08:28:33.005843Z",
     "shell.execute_reply": "2023-08-04T08:28:33.004916Z"
    },
    "papermill": {
     "duration": 0.075782,
     "end_time": "2023-08-04T08:28:33.008036",
     "exception": false,
     "start_time": "2023-08-04T08:28:32.932254",
     "status": "completed"
    },
    "tags": []
   },
   "outputs": [],
   "source": [
    "submission.to_csv(\"/kaggle/working/submission.csv\", index=False)"
   ]
  }
 ],
 "metadata": {
  "kernelspec": {
   "display_name": "Python 3",
   "language": "python",
   "name": "python3"
  },
  "language_info": {
   "codemirror_mode": {
    "name": "ipython",
    "version": 3
   },
   "file_extension": ".py",
   "mimetype": "text/x-python",
   "name": "python",
   "nbconvert_exporter": "python",
   "pygments_lexer": "ipython3",
   "version": "3.10.12"
  },
  "papermill": {
   "default_parameters": {},
   "duration": 135.707312,
   "end_time": "2023-08-04T08:28:36.410330",
   "environment_variables": {},
   "exception": null,
   "input_path": "__notebook__.ipynb",
   "output_path": "__notebook__.ipynb",
   "parameters": {},
   "start_time": "2023-08-04T08:26:20.703018",
   "version": "2.4.0"
  }
 },
 "nbformat": 4,
 "nbformat_minor": 5
}
